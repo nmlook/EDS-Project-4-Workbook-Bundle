{
 "cells": [
  {
   "cell_type": "markdown",
   "metadata": {},
   "source": [
    "<h1 style=\"font-size:42px; text-align:center; margin-bottom:30px;\"><span style=\"color:SteelBlue\">Module 2:</span> Dimensionality Reduction</h1>\n",
    "<hr>\n",
    "\n",
    "Welcome to <span style=\"color:royalblue\">Module 2: Dimensionality Reduction</span>!\n",
    "\n",
    "In the previous module, you created an analytical base table with useful customer-level features for **purchase patterns**.\n",
    "\n",
    "However, remember, our client wishes to incorporate information about **specific item purchases** into the clusters. For example, our model should be more likely to group together customers who buy similar items.\n",
    "\n",
    "* In this module, we'll prepare individual item features for our clustering algorithms.\n",
    "* The Curse of Dimensionality is especially relevant for clustering because it means observations are \"far away\" from each other.\n",
    "* We'll introduce a simple way to reduce the number of dimensions by applying thresholds.\n",
    "\n",
    "<br><hr id=\"toc\">\n",
    "\n",
    "### In this module...\n",
    "\n",
    "In this module, we'll cover:\n",
    "1. [The Curse of Dimensionality](#curse)\n",
    "2. [Item data](#item-data)\n",
    "3. [Toy example: rolling up item data](#toy)\n",
    "4. [High dimensionality](#high-dimensionality)\n",
    "5. [Thresholds](#thresholds)\n",
    "\n",
    "\n",
    "<br><hr>"
   ]
  },
  {
   "cell_type": "markdown",
   "metadata": {},
   "source": [
    "### First, let's import libraries and load the cleaned transaction-level data.\n",
    "\n",
    "First, import libraries that you'll need."
   ]
  },
  {
   "cell_type": "code",
   "execution_count": 20,
   "metadata": {},
   "outputs": [
    {
     "name": "stdout",
     "output_type": "stream",
     "text": [
      "Print function ready!\n"
     ]
    }
   ],
   "source": [
    "# print_function for compatibility with Python 3\n",
    "from __future__ import print_function\n",
    "print('Print function ready!')\n",
    "\n",
    "# NumPy for numerical computing\n",
    "import numpy as np\n",
    "\n",
    "# Pandas for DataFrames\n",
    "import pandas as pd\n",
    "pd.set_option('display.max_columns', 100)\n",
    "\n",
    "# Matplotlib for visualization\n",
    "from matplotlib import pyplot as plt\n",
    "# display plots in the notebook\n",
    "%matplotlib inline\n",
    "\n",
    "# Seaborn for easier visualization\n",
    "import seaborn as sns"
   ]
  },
  {
   "cell_type": "markdown",
   "metadata": {},
   "source": [
    "Next, let's import the cleaned dataset (not the analytical base table) that we saved in the previous module.\n",
    "* Remember, we saved it as <code style=\"color:crimson\">'cleaned_transactions.csv'</code>."
   ]
  },
  {
   "cell_type": "code",
   "execution_count": 3,
   "metadata": {},
   "outputs": [],
   "source": [
    "# Read cleaned_transactions.csv\n",
    "df = pd.read_csv('cleaned_transactions.csv')"
   ]
  },
  {
   "cell_type": "markdown",
   "metadata": {},
   "source": [
    "<span id=\"curse\"></span>\n",
    "# 1. The Curse of Dimensionality\n",
    "\n",
    "No code for this part. Please see the online lesson for intuition behind The Curse of Dimensionality."
   ]
  },
  {
   "cell_type": "markdown",
   "metadata": {},
   "source": [
    "<p style=\"text-align:center; margin: 40px 0 40px 0; font-weight:bold\">\n",
    "<a href=\"#toc\">Back to Contents</a>\n",
    "</p>"
   ]
  },
  {
   "cell_type": "markdown",
   "metadata": {},
   "source": [
    "<span id=\"item-data\"></span>\n",
    "# 2. Item data\n",
    "\n",
    "So how does The Curse of Dimensionality arise in this problem?\n",
    "\n",
    "<br>\n",
    "**Display the first 10 StockCodes and Descriptions from the transaction dataset.**"
   ]
  },
  {
   "cell_type": "code",
   "execution_count": 21,
   "metadata": {},
   "outputs": [
    {
     "data": {
      "text/html": [
       "<div>\n",
       "<style>\n",
       "    .dataframe thead tr:only-child th {\n",
       "        text-align: right;\n",
       "    }\n",
       "\n",
       "    .dataframe thead th {\n",
       "        text-align: left;\n",
       "    }\n",
       "\n",
       "    .dataframe tbody tr th {\n",
       "        vertical-align: top;\n",
       "    }\n",
       "</style>\n",
       "<table border=\"1\" class=\"dataframe\">\n",
       "  <thead>\n",
       "    <tr style=\"text-align: right;\">\n",
       "      <th></th>\n",
       "      <th>StockCode</th>\n",
       "      <th>Description</th>\n",
       "    </tr>\n",
       "  </thead>\n",
       "  <tbody>\n",
       "    <tr>\n",
       "      <th>0</th>\n",
       "      <td>22728</td>\n",
       "      <td>ALARM CLOCK BAKELIKE PINK</td>\n",
       "    </tr>\n",
       "    <tr>\n",
       "      <th>1</th>\n",
       "      <td>22727</td>\n",
       "      <td>ALARM CLOCK BAKELIKE RED</td>\n",
       "    </tr>\n",
       "    <tr>\n",
       "      <th>2</th>\n",
       "      <td>22726</td>\n",
       "      <td>ALARM CLOCK BAKELIKE GREEN</td>\n",
       "    </tr>\n",
       "    <tr>\n",
       "      <th>3</th>\n",
       "      <td>21724</td>\n",
       "      <td>PANDA AND BUNNIES STICKER SHEET</td>\n",
       "    </tr>\n",
       "    <tr>\n",
       "      <th>4</th>\n",
       "      <td>21883</td>\n",
       "      <td>STARS GIFT TAPE</td>\n",
       "    </tr>\n",
       "    <tr>\n",
       "      <th>5</th>\n",
       "      <td>10002</td>\n",
       "      <td>INFLATABLE POLITICAL GLOBE</td>\n",
       "    </tr>\n",
       "    <tr>\n",
       "      <th>6</th>\n",
       "      <td>21791</td>\n",
       "      <td>VINTAGE HEADS AND TAILS CARD GAME</td>\n",
       "    </tr>\n",
       "    <tr>\n",
       "      <th>7</th>\n",
       "      <td>21035</td>\n",
       "      <td>SET/2 RED RETROSPOT TEA TOWELS</td>\n",
       "    </tr>\n",
       "    <tr>\n",
       "      <th>8</th>\n",
       "      <td>22326</td>\n",
       "      <td>ROUND SNACK BOXES SET OF4 WOODLAND</td>\n",
       "    </tr>\n",
       "    <tr>\n",
       "      <th>9</th>\n",
       "      <td>22629</td>\n",
       "      <td>SPACEBOY LUNCH BOX</td>\n",
       "    </tr>\n",
       "  </tbody>\n",
       "</table>\n",
       "</div>"
      ],
      "text/plain": [
       "  StockCode                          Description\n",
       "0     22728            ALARM CLOCK BAKELIKE PINK\n",
       "1     22727            ALARM CLOCK BAKELIKE RED \n",
       "2     22726           ALARM CLOCK BAKELIKE GREEN\n",
       "3     21724      PANDA AND BUNNIES STICKER SHEET\n",
       "4     21883                     STARS GIFT TAPE \n",
       "5     10002          INFLATABLE POLITICAL GLOBE \n",
       "6     21791   VINTAGE HEADS AND TAILS CARD GAME \n",
       "7     21035      SET/2 RED RETROSPOT TEA TOWELS \n",
       "8     22326  ROUND SNACK BOXES SET OF4 WOODLAND \n",
       "9     22629                  SPACEBOY LUNCH BOX "
      ]
     },
     "execution_count": 21,
     "metadata": {},
     "output_type": "execute_result"
    }
   ],
   "source": [
    "# First 10 StockCodes and Descriptions\n",
    "df[['StockCode', 'Description']].head(10)\n"
   ]
  },
  {
   "cell_type": "markdown",
   "metadata": {},
   "source": [
    "**Next, display the number of unique items in the dataset.**"
   ]
  },
  {
   "cell_type": "code",
   "execution_count": 23,
   "metadata": {},
   "outputs": [
    {
     "data": {
      "text/plain": [
       "2574"
      ]
     },
     "execution_count": 23,
     "metadata": {},
     "output_type": "execute_result"
    }
   ],
   "source": [
    "# Number of unique items\n",
    "len(df.StockCode.unique())"
   ]
  },
  {
   "cell_type": "markdown",
   "metadata": {},
   "source": [
    "<p style=\"text-align:center; margin: 40px 0 40px 0; font-weight:bold\">\n",
    "<a href=\"#toc\">Back to Contents</a>\n",
    "</p>"
   ]
  },
  {
   "cell_type": "markdown",
   "metadata": {},
   "source": [
    "<span id=\"toy\"></span>\n",
    "# 3. Toy example: rolling up item data\n",
    "\n",
    "To illustrate how we'll **roll up item information to the customer level**, let's use another toy example. \n",
    "\n",
    "<br>\n",
    "**First, create a <code style=\"color:crimson\">toy_df</code> that only contains transactions for 2 customers.**\n",
    "* Include transactions for these 2 CustomerID's: <code style=\"color:crimson\">14566</code> and <code style=\"color:crimson\">17844</code>.\n",
    "* By the way, there's nothing special about these customers... we just chose them because they have relatively few purchases, making the toy example more manageable.\n",
    "* Then, display the toy dataframe."
   ]
  },
  {
   "cell_type": "code",
   "execution_count": 25,
   "metadata": {},
   "outputs": [
    {
     "data": {
      "text/html": [
       "<div>\n",
       "<style>\n",
       "    .dataframe thead tr:only-child th {\n",
       "        text-align: right;\n",
       "    }\n",
       "\n",
       "    .dataframe thead th {\n",
       "        text-align: left;\n",
       "    }\n",
       "\n",
       "    .dataframe tbody tr th {\n",
       "        vertical-align: top;\n",
       "    }\n",
       "</style>\n",
       "<table border=\"1\" class=\"dataframe\">\n",
       "  <thead>\n",
       "    <tr style=\"text-align: right;\">\n",
       "      <th></th>\n",
       "      <th>InvoiceNo</th>\n",
       "      <th>StockCode</th>\n",
       "      <th>Description</th>\n",
       "      <th>Quantity</th>\n",
       "      <th>InvoiceDate</th>\n",
       "      <th>UnitPrice</th>\n",
       "      <th>CustomerID</th>\n",
       "      <th>Country</th>\n",
       "      <th>Sales</th>\n",
       "    </tr>\n",
       "  </thead>\n",
       "  <tbody>\n",
       "    <tr>\n",
       "      <th>19250</th>\n",
       "      <td>563900</td>\n",
       "      <td>85099C</td>\n",
       "      <td>JUMBO  BAG BAROQUE BLACK WHITE</td>\n",
       "      <td>200</td>\n",
       "      <td>8/21/11 11:05</td>\n",
       "      <td>1.79</td>\n",
       "      <td>14566</td>\n",
       "      <td>Channel Islands</td>\n",
       "      <td>358.00</td>\n",
       "    </tr>\n",
       "    <tr>\n",
       "      <th>19251</th>\n",
       "      <td>563900</td>\n",
       "      <td>85099B</td>\n",
       "      <td>JUMBO BAG RED RETROSPOT</td>\n",
       "      <td>200</td>\n",
       "      <td>8/21/11 11:05</td>\n",
       "      <td>1.79</td>\n",
       "      <td>14566</td>\n",
       "      <td>Channel Islands</td>\n",
       "      <td>358.00</td>\n",
       "    </tr>\n",
       "    <tr>\n",
       "      <th>19252</th>\n",
       "      <td>563900</td>\n",
       "      <td>23199</td>\n",
       "      <td>JUMBO BAG APPLES</td>\n",
       "      <td>200</td>\n",
       "      <td>8/21/11 11:05</td>\n",
       "      <td>1.79</td>\n",
       "      <td>14566</td>\n",
       "      <td>Channel Islands</td>\n",
       "      <td>358.00</td>\n",
       "    </tr>\n",
       "    <tr>\n",
       "      <th>19253</th>\n",
       "      <td>563900</td>\n",
       "      <td>22386</td>\n",
       "      <td>JUMBO BAG PINK POLKADOT</td>\n",
       "      <td>200</td>\n",
       "      <td>8/21/11 11:05</td>\n",
       "      <td>1.79</td>\n",
       "      <td>14566</td>\n",
       "      <td>Channel Islands</td>\n",
       "      <td>358.00</td>\n",
       "    </tr>\n",
       "    <tr>\n",
       "      <th>19851</th>\n",
       "      <td>564428</td>\n",
       "      <td>21993</td>\n",
       "      <td>FLORAL FOLK STATIONERY SET</td>\n",
       "      <td>12</td>\n",
       "      <td>8/25/11 11:27</td>\n",
       "      <td>1.25</td>\n",
       "      <td>17844</td>\n",
       "      <td>Canada</td>\n",
       "      <td>15.00</td>\n",
       "    </tr>\n",
       "    <tr>\n",
       "      <th>19852</th>\n",
       "      <td>564428</td>\n",
       "      <td>23295</td>\n",
       "      <td>SET OF 12 MINI LOAF BAKING CASES</td>\n",
       "      <td>8</td>\n",
       "      <td>8/25/11 11:27</td>\n",
       "      <td>0.83</td>\n",
       "      <td>17844</td>\n",
       "      <td>Canada</td>\n",
       "      <td>6.64</td>\n",
       "    </tr>\n",
       "    <tr>\n",
       "      <th>19853</th>\n",
       "      <td>564428</td>\n",
       "      <td>23293</td>\n",
       "      <td>SET OF 12 FAIRY CAKE BAKING CASES</td>\n",
       "      <td>16</td>\n",
       "      <td>8/25/11 11:27</td>\n",
       "      <td>0.83</td>\n",
       "      <td>17844</td>\n",
       "      <td>Canada</td>\n",
       "      <td>13.28</td>\n",
       "    </tr>\n",
       "    <tr>\n",
       "      <th>19854</th>\n",
       "      <td>564428</td>\n",
       "      <td>23296</td>\n",
       "      <td>SET OF 6 TEA TIME BAKING CASES</td>\n",
       "      <td>8</td>\n",
       "      <td>8/25/11 11:27</td>\n",
       "      <td>1.25</td>\n",
       "      <td>17844</td>\n",
       "      <td>Canada</td>\n",
       "      <td>10.00</td>\n",
       "    </tr>\n",
       "    <tr>\n",
       "      <th>19855</th>\n",
       "      <td>564428</td>\n",
       "      <td>23294</td>\n",
       "      <td>SET OF 6 SNACK LOAF BAKING CASES</td>\n",
       "      <td>8</td>\n",
       "      <td>8/25/11 11:27</td>\n",
       "      <td>0.83</td>\n",
       "      <td>17844</td>\n",
       "      <td>Canada</td>\n",
       "      <td>6.64</td>\n",
       "    </tr>\n",
       "  </tbody>\n",
       "</table>\n",
       "</div>"
      ],
      "text/plain": [
       "       InvoiceNo StockCode                        Description  Quantity  \\\n",
       "19250     563900    85099C     JUMBO  BAG BAROQUE BLACK WHITE       200   \n",
       "19251     563900    85099B            JUMBO BAG RED RETROSPOT       200   \n",
       "19252     563900     23199                   JUMBO BAG APPLES       200   \n",
       "19253     563900     22386            JUMBO BAG PINK POLKADOT       200   \n",
       "19851     564428     21993         FLORAL FOLK STATIONERY SET        12   \n",
       "19852     564428     23295   SET OF 12 MINI LOAF BAKING CASES         8   \n",
       "19853     564428     23293  SET OF 12 FAIRY CAKE BAKING CASES        16   \n",
       "19854     564428     23296     SET OF 6 TEA TIME BAKING CASES         8   \n",
       "19855     564428     23294   SET OF 6 SNACK LOAF BAKING CASES         8   \n",
       "\n",
       "         InvoiceDate  UnitPrice  CustomerID          Country   Sales  \n",
       "19250  8/21/11 11:05       1.79       14566  Channel Islands  358.00  \n",
       "19251  8/21/11 11:05       1.79       14566  Channel Islands  358.00  \n",
       "19252  8/21/11 11:05       1.79       14566  Channel Islands  358.00  \n",
       "19253  8/21/11 11:05       1.79       14566  Channel Islands  358.00  \n",
       "19851  8/25/11 11:27       1.25       17844           Canada   15.00  \n",
       "19852  8/25/11 11:27       0.83       17844           Canada    6.64  \n",
       "19853  8/25/11 11:27       0.83       17844           Canada   13.28  \n",
       "19854  8/25/11 11:27       1.25       17844           Canada   10.00  \n",
       "19855  8/25/11 11:27       0.83       17844           Canada    6.64  "
      ]
     },
     "execution_count": 25,
     "metadata": {},
     "output_type": "execute_result"
    }
   ],
   "source": [
    "# Create toy_df\n",
    "toy_df = df[df.CustomerID.isin([14566, 17844])]\n",
    "\n",
    "# Display toy_df\n",
    "toy_df"
   ]
  },
  {
   "cell_type": "markdown",
   "metadata": {},
   "source": [
    "**Create a dataframe of dummy variables for <code style=\"color:steelblue\">'StockCode'</code>.**\n",
    "* Name it <code style=\"color:crimson\">toy_item_dummies</code>.\n",
    "* We don't need the other features right now, so you can actually just directly pass in the <code style=\"color:steelblue\">toy_df.StockCode</code> Series to <code style=\"color:steelblue\">pd.get_dummies()</code>.\n",
    "* Then, add <code style=\"color:steelblue\">'CustomerID'</code> to this new dataframe so that we can roll up by customer later.\n",
    "* Finally, display the dataframe."
   ]
  },
  {
   "cell_type": "code",
   "execution_count": 27,
   "metadata": {},
   "outputs": [
    {
     "data": {
      "text/html": [
       "<div>\n",
       "<style>\n",
       "    .dataframe thead tr:only-child th {\n",
       "        text-align: right;\n",
       "    }\n",
       "\n",
       "    .dataframe thead th {\n",
       "        text-align: left;\n",
       "    }\n",
       "\n",
       "    .dataframe tbody tr th {\n",
       "        vertical-align: top;\n",
       "    }\n",
       "</style>\n",
       "<table border=\"1\" class=\"dataframe\">\n",
       "  <thead>\n",
       "    <tr style=\"text-align: right;\">\n",
       "      <th></th>\n",
       "      <th>21993</th>\n",
       "      <th>22386</th>\n",
       "      <th>23199</th>\n",
       "      <th>23293</th>\n",
       "      <th>23294</th>\n",
       "      <th>23295</th>\n",
       "      <th>23296</th>\n",
       "      <th>85099B</th>\n",
       "      <th>85099C</th>\n",
       "      <th>CustomerID</th>\n",
       "    </tr>\n",
       "  </thead>\n",
       "  <tbody>\n",
       "    <tr>\n",
       "      <th>19250</th>\n",
       "      <td>0</td>\n",
       "      <td>0</td>\n",
       "      <td>0</td>\n",
       "      <td>0</td>\n",
       "      <td>0</td>\n",
       "      <td>0</td>\n",
       "      <td>0</td>\n",
       "      <td>0</td>\n",
       "      <td>1</td>\n",
       "      <td>14566</td>\n",
       "    </tr>\n",
       "    <tr>\n",
       "      <th>19251</th>\n",
       "      <td>0</td>\n",
       "      <td>0</td>\n",
       "      <td>0</td>\n",
       "      <td>0</td>\n",
       "      <td>0</td>\n",
       "      <td>0</td>\n",
       "      <td>0</td>\n",
       "      <td>1</td>\n",
       "      <td>0</td>\n",
       "      <td>14566</td>\n",
       "    </tr>\n",
       "    <tr>\n",
       "      <th>19252</th>\n",
       "      <td>0</td>\n",
       "      <td>0</td>\n",
       "      <td>1</td>\n",
       "      <td>0</td>\n",
       "      <td>0</td>\n",
       "      <td>0</td>\n",
       "      <td>0</td>\n",
       "      <td>0</td>\n",
       "      <td>0</td>\n",
       "      <td>14566</td>\n",
       "    </tr>\n",
       "    <tr>\n",
       "      <th>19253</th>\n",
       "      <td>0</td>\n",
       "      <td>1</td>\n",
       "      <td>0</td>\n",
       "      <td>0</td>\n",
       "      <td>0</td>\n",
       "      <td>0</td>\n",
       "      <td>0</td>\n",
       "      <td>0</td>\n",
       "      <td>0</td>\n",
       "      <td>14566</td>\n",
       "    </tr>\n",
       "    <tr>\n",
       "      <th>19851</th>\n",
       "      <td>1</td>\n",
       "      <td>0</td>\n",
       "      <td>0</td>\n",
       "      <td>0</td>\n",
       "      <td>0</td>\n",
       "      <td>0</td>\n",
       "      <td>0</td>\n",
       "      <td>0</td>\n",
       "      <td>0</td>\n",
       "      <td>17844</td>\n",
       "    </tr>\n",
       "    <tr>\n",
       "      <th>19852</th>\n",
       "      <td>0</td>\n",
       "      <td>0</td>\n",
       "      <td>0</td>\n",
       "      <td>0</td>\n",
       "      <td>0</td>\n",
       "      <td>1</td>\n",
       "      <td>0</td>\n",
       "      <td>0</td>\n",
       "      <td>0</td>\n",
       "      <td>17844</td>\n",
       "    </tr>\n",
       "    <tr>\n",
       "      <th>19853</th>\n",
       "      <td>0</td>\n",
       "      <td>0</td>\n",
       "      <td>0</td>\n",
       "      <td>1</td>\n",
       "      <td>0</td>\n",
       "      <td>0</td>\n",
       "      <td>0</td>\n",
       "      <td>0</td>\n",
       "      <td>0</td>\n",
       "      <td>17844</td>\n",
       "    </tr>\n",
       "    <tr>\n",
       "      <th>19854</th>\n",
       "      <td>0</td>\n",
       "      <td>0</td>\n",
       "      <td>0</td>\n",
       "      <td>0</td>\n",
       "      <td>0</td>\n",
       "      <td>0</td>\n",
       "      <td>1</td>\n",
       "      <td>0</td>\n",
       "      <td>0</td>\n",
       "      <td>17844</td>\n",
       "    </tr>\n",
       "    <tr>\n",
       "      <th>19855</th>\n",
       "      <td>0</td>\n",
       "      <td>0</td>\n",
       "      <td>0</td>\n",
       "      <td>0</td>\n",
       "      <td>1</td>\n",
       "      <td>0</td>\n",
       "      <td>0</td>\n",
       "      <td>0</td>\n",
       "      <td>0</td>\n",
       "      <td>17844</td>\n",
       "    </tr>\n",
       "  </tbody>\n",
       "</table>\n",
       "</div>"
      ],
      "text/plain": [
       "       21993  22386  23199  23293  23294  23295  23296  85099B  85099C  \\\n",
       "19250      0      0      0      0      0      0      0       0       1   \n",
       "19251      0      0      0      0      0      0      0       1       0   \n",
       "19252      0      0      1      0      0      0      0       0       0   \n",
       "19253      0      1      0      0      0      0      0       0       0   \n",
       "19851      1      0      0      0      0      0      0       0       0   \n",
       "19852      0      0      0      0      0      1      0       0       0   \n",
       "19853      0      0      0      1      0      0      0       0       0   \n",
       "19854      0      0      0      0      0      0      1       0       0   \n",
       "19855      0      0      0      0      1      0      0       0       0   \n",
       "\n",
       "       CustomerID  \n",
       "19250       14566  \n",
       "19251       14566  \n",
       "19252       14566  \n",
       "19253       14566  \n",
       "19851       17844  \n",
       "19852       17844  \n",
       "19853       17844  \n",
       "19854       17844  \n",
       "19855       17844  "
      ]
     },
     "execution_count": 27,
     "metadata": {},
     "output_type": "execute_result"
    }
   ],
   "source": [
    "# Get toy_item_dummies\n",
    "toy_item_dummies = pd.get_dummies(toy_df.StockCode)\n",
    "\n",
    "# Add CustomerID to toy_item_dummies\n",
    "toy_item_dummies['CustomerID'] = toy_df['CustomerID']\n",
    "\n",
    "# Display toy_item_dummies\n",
    "toy_item_dummies"
   ]
  },
  {
   "cell_type": "markdown",
   "metadata": {},
   "source": [
    "**Finally, we can aggregate this information to the customer-level**.\n",
    "* In fact, it's as simple as grouping by customer and counting the number of times each customer bought each item."
   ]
  },
  {
   "cell_type": "code",
   "execution_count": 28,
   "metadata": {},
   "outputs": [
    {
     "data": {
      "text/html": [
       "<div>\n",
       "<style>\n",
       "    .dataframe thead tr:only-child th {\n",
       "        text-align: right;\n",
       "    }\n",
       "\n",
       "    .dataframe thead th {\n",
       "        text-align: left;\n",
       "    }\n",
       "\n",
       "    .dataframe tbody tr th {\n",
       "        vertical-align: top;\n",
       "    }\n",
       "</style>\n",
       "<table border=\"1\" class=\"dataframe\">\n",
       "  <thead>\n",
       "    <tr style=\"text-align: right;\">\n",
       "      <th></th>\n",
       "      <th>21993</th>\n",
       "      <th>22386</th>\n",
       "      <th>23199</th>\n",
       "      <th>23293</th>\n",
       "      <th>23294</th>\n",
       "      <th>23295</th>\n",
       "      <th>23296</th>\n",
       "      <th>85099B</th>\n",
       "      <th>85099C</th>\n",
       "    </tr>\n",
       "    <tr>\n",
       "      <th>CustomerID</th>\n",
       "      <th></th>\n",
       "      <th></th>\n",
       "      <th></th>\n",
       "      <th></th>\n",
       "      <th></th>\n",
       "      <th></th>\n",
       "      <th></th>\n",
       "      <th></th>\n",
       "      <th></th>\n",
       "    </tr>\n",
       "  </thead>\n",
       "  <tbody>\n",
       "    <tr>\n",
       "      <th>14566</th>\n",
       "      <td>0</td>\n",
       "      <td>1</td>\n",
       "      <td>1</td>\n",
       "      <td>0</td>\n",
       "      <td>0</td>\n",
       "      <td>0</td>\n",
       "      <td>0</td>\n",
       "      <td>1</td>\n",
       "      <td>1</td>\n",
       "    </tr>\n",
       "    <tr>\n",
       "      <th>17844</th>\n",
       "      <td>1</td>\n",
       "      <td>0</td>\n",
       "      <td>0</td>\n",
       "      <td>1</td>\n",
       "      <td>1</td>\n",
       "      <td>1</td>\n",
       "      <td>1</td>\n",
       "      <td>0</td>\n",
       "      <td>0</td>\n",
       "    </tr>\n",
       "  </tbody>\n",
       "</table>\n",
       "</div>"
      ],
      "text/plain": [
       "            21993  22386  23199  23293  23294  23295  23296  85099B  85099C\n",
       "CustomerID                                                                 \n",
       "14566           0      1      1      0      0      0      0       1       1\n",
       "17844           1      0      0      1      1      1      1       0       0"
      ]
     },
     "execution_count": 28,
     "metadata": {},
     "output_type": "execute_result"
    }
   ],
   "source": [
    "# Create toy_item_data by aggregating at customer level\n",
    "toy_item_data = toy_item_dummies.groupby('CustomerID').sum()\n",
    "\n",
    "# Display toy_item_data\n",
    "toy_item_data"
   ]
  },
  {
   "cell_type": "markdown",
   "metadata": {},
   "source": [
    "<p style=\"text-align:center; margin: 40px 0 40px 0; font-weight:bold\">\n",
    "<a href=\"#toc\">Back to Contents</a>\n",
    "</p>"
   ]
  },
  {
   "cell_type": "markdown",
   "metadata": {},
   "source": [
    "<span id=\"high-dimensionality\"></span>\n",
    "# 4. High dimensionality\n",
    "\n",
    "Now, perhaps the alarms in your head have already started ringing!\n",
    "\n",
    "<br>\n",
    "**First, create a dataframe of dummy variables for <code style=\"color:steelblue\">'StockCode'</code>, this time for the full dataset.**\n",
    "* Name it <code style=\"color:crimson\">item_dummies</code>.\n",
    "* Then, add <code style=\"color:steelblue\">'CustomerID'</code> to this new dataframe so that we can roll up by customer later.\n",
    "* Then, display the first 5 rows in this dataframe."
   ]
  },
  {
   "cell_type": "code",
   "execution_count": null,
   "metadata": {
    "scrolled": true
   },
   "outputs": [],
   "source": [
    "# Get item_dummies\n",
    "\n",
    "\n",
    "# Add CustomerID to item_dummies\n",
    "\n",
    "\n",
    "# Display first 5 rows of item_dummies\n"
   ]
  },
  {
   "cell_type": "markdown",
   "metadata": {},
   "source": [
    "**Next, roll up the item dummies data into customer-level item data**.\n",
    "* Name it <code style=\"color:crimson\">item_data</code>.\n",
    "* This could take a few seconds.\n",
    "* Then, display the first 5 rows of the dataframe."
   ]
  },
  {
   "cell_type": "code",
   "execution_count": null,
   "metadata": {},
   "outputs": [],
   "source": [
    "# Create item_data by aggregating at customer level\n",
    "\n",
    "\n",
    "# Display first 5 rows of item_data\n"
   ]
  },
  {
   "cell_type": "markdown",
   "metadata": {},
   "source": [
    "**Finally, let's display the total number times each item was purchased.**\n",
    "* This quick check confirms these features are pretty sparse."
   ]
  },
  {
   "cell_type": "code",
   "execution_count": null,
   "metadata": {},
   "outputs": [],
   "source": [
    "# Total times each item was purchased\n"
   ]
  },
  {
   "cell_type": "markdown",
   "metadata": {},
   "source": [
    "**Before moving on, let's save this customer-level item dataframe as <code style=\"color:crimson\">'item_data.csv'</code>. We'll use it again in the next module.**\n",
    "* In the next module, we'll look at an alternative way to reduce dimensionality.\n",
    "* Again, we won't set <code style=\"color:steelblue\">index=None</code> because we want to keep the CustomerID's as the index."
   ]
  },
  {
   "cell_type": "code",
   "execution_count": null,
   "metadata": {
    "collapsed": true
   },
   "outputs": [],
   "source": [
    "# Save item_data.csv\n"
   ]
  },
  {
   "cell_type": "markdown",
   "metadata": {},
   "source": [
    "<p style=\"text-align:center; margin: 40px 0 40px 0; font-weight:bold\">\n",
    "<a href=\"#toc\">Back to Contents</a>\n",
    "</p>"
   ]
  },
  {
   "cell_type": "markdown",
   "metadata": {},
   "source": [
    "<span id=\"thresholds\"></span>\n",
    "# 5. Thresholds\n",
    "\n",
    "One very **simple and straightforward way** to reduce the dimensionality of this item data is to set a **threshold** for keeping features.\n",
    "\n",
    "<br>\n",
    "**First, we can see which items those are and the number of times they were purchased.**\n",
    "1. Take the sum by column.\n",
    "* Sort the values.\n",
    "* Look at the last 20 (since they are sorted in ascending order by default)."
   ]
  },
  {
   "cell_type": "code",
   "execution_count": null,
   "metadata": {},
   "outputs": [],
   "source": [
    "# Display most popular 20 items\n"
   ]
  },
  {
   "cell_type": "markdown",
   "metadata": {},
   "source": [
    "**Next, if we take the <code style=\"color:steelblue\">.index</code> of the above series, we can get just a list of the StockCodes for those 20 items.**"
   ]
  },
  {
   "cell_type": "code",
   "execution_count": null,
   "metadata": {},
   "outputs": [],
   "source": [
    "# Get list of StockCodes for the 20 most popular items\n"
   ]
  },
  {
   "cell_type": "markdown",
   "metadata": {},
   "source": [
    "**Finally, we can keep only the features for those 20 items.**"
   ]
  },
  {
   "cell_type": "code",
   "execution_count": null,
   "metadata": {},
   "outputs": [],
   "source": [
    "# Keep only features for top 20 items\n",
    "\n",
    "\n",
    "# Shape of remaining dataframe\n"
   ]
  },
  {
   "cell_type": "markdown",
   "metadata": {},
   "source": [
    "Here, take a look:"
   ]
  },
  {
   "cell_type": "code",
   "execution_count": null,
   "metadata": {},
   "outputs": [],
   "source": [
    "# Display first 5 rows of top_20_item_data\n"
   ]
  },
  {
   "cell_type": "markdown",
   "metadata": {},
   "source": [
    "**Finally, save this top 20 items dataframe as <code style=\"color:crimson\">'threshold_item_data.csv'</code>.**\n",
    "* We'll see a different way to reduce dimensionality in the next module, but we'll come back to this dataframe again in Module 4.\n",
    "* Don't set <code style=\"color:steelblue\">index=None</code> because we want to keep the CustomerID's as the index."
   ]
  },
  {
   "cell_type": "code",
   "execution_count": null,
   "metadata": {
    "collapsed": true
   },
   "outputs": [],
   "source": [
    "# Save threshold_item_data.csv\n"
   ]
  },
  {
   "cell_type": "markdown",
   "metadata": {},
   "source": [
    "<p style=\"text-align:center; margin: 40px 0 40px 0; font-weight:bold\">\n",
    "<a href=\"#toc\">Back to Contents</a>\n",
    "</p>"
   ]
  },
  {
   "cell_type": "markdown",
   "metadata": {},
   "source": [
    "<br>\n",
    "## Next Steps\n",
    "\n",
    "Congratulations for making it through Project 4's Dimensionality Reduction!\n",
    "\n",
    "As a reminder, here are a few things you did in this module:\n",
    "* You learned about the Curse of Dimensionality and how it can cause issues for clustering.\n",
    "* You used another toy example to see the process of rolling up item data.\n",
    "* You created customer-level item features that represent the number of times each item was purchased.\n",
    "* And you reduced the dimensionality of that dataset using thresholds.\n",
    "\n",
    "In the next module, <span style=\"color:royalblue\">Module 3: Principal Components Analysis</span>, we'll look at a different way to reduce the number of customer-level item features. This is a more advanced technique, and it's actually considered its own Unsupervised Learning task!\n",
    "\n",
    "<p style=\"text-align:center; margin: 40px 0 40px 0; font-weight:bold\">\n",
    "<a href=\"#toc\">Back to Contents</a>\n",
    "</p>"
   ]
  }
 ],
 "metadata": {
  "kernelspec": {
   "display_name": "Python 3",
   "language": "python",
   "name": "python3"
  },
  "language_info": {
   "codemirror_mode": {
    "name": "ipython",
    "version": 3
   },
   "file_extension": ".py",
   "mimetype": "text/x-python",
   "name": "python",
   "nbconvert_exporter": "python",
   "pygments_lexer": "ipython3",
   "version": "3.6.3"
  }
 },
 "nbformat": 4,
 "nbformat_minor": 2
}
