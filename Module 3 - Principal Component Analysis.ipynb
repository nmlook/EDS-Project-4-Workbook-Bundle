{
 "cells": [
  {
   "cell_type": "markdown",
   "metadata": {},
   "source": [
    "<h1 style=\"font-size:42px; text-align:center; margin-bottom:30px;\"><span style=\"color:SteelBlue\">Module 3:</span> Principal Component Analysis</h1>\n",
    "<hr>\n",
    "\n",
    "Welcome to <span style=\"color:royalblue\">Module 3: Principal Component Analysis</span>!\n",
    "\n",
    "Principal Component Analysis, or PCA, is a popular dimensionality reduction technique.\n",
    "\n",
    "PCA seeks to create new features by finding linear combinations of your original ones. These new features, called **principal components**, are meant to maximize the **\"explained variance,\"** which we'll explain further in the module.\n",
    "\n",
    "* In this module, we'll prepare individual item features for our clustering algorithms, except this time we'll use PCA instead of thresholding.\n",
    "* PCA is especially effective when you have many correlated features.\n",
    "* Important: PCA creates new features that replace the original ones.\n",
    "\n",
    "\n",
    "<br><hr id=\"toc\">\n",
    "\n",
    "### In this module...\n",
    "\n",
    "In this module, we'll cover:\n",
    "1. [Toy example: oval blob](#oval-blob)\n",
    "2. [Principal components](#components)\n",
    "3. [Dimensionality reduction](#reduction)\n",
    "4. [Item data PCA](#item-data)\n",
    "5. [Explained variance](#explained-variance)\n",
    "\n",
    "<br><hr>"
   ]
  },
  {
   "cell_type": "markdown",
   "metadata": {},
   "source": [
    "### First, let's import libraries and load the item data.\n",
    "\n",
    "First, import libraries that you'll need."
   ]
  },
  {
   "cell_type": "code",
   "execution_count": null,
   "metadata": {
    "collapsed": true
   },
   "outputs": [],
   "source": [
    "# print_function for compatibility with Python 3\n",
    "\n",
    "\n",
    "# NumPy for numerical computing\n",
    "\n",
    "# Pandas for DataFrames\n",
    "\n",
    "\n",
    "\n",
    "# Matplotlib for visualization\n",
    "\n",
    "\n",
    "# display plots in the notebook\n",
    "\n",
    "\n",
    "# Seaborn for easier visualization\n",
    "\n",
    "\n",
    "# StandardScaler from Scikit-Learn\n",
    "\n",
    "\n",
    "# PCA from Scikit-Learn (added later)\n",
    "\n"
   ]
  },
  {
   "cell_type": "markdown",
   "metadata": {},
   "source": [
    "Next, let's import the full item data that we saved in the previous module (before applying thresholds).\n",
    "* Remember, we saved it as <code style=\"color:crimson\">'item_data.csv'</code>.\n",
    "* This time, we'll also pass in the argument <code style=\"color:steelblue\">index_col=0</code> to tell Pandas to treat the first column (CustomerID) as the index."
   ]
  },
  {
   "cell_type": "code",
   "execution_count": null,
   "metadata": {
    "collapsed": false
   },
   "outputs": [],
   "source": [
    "# Read item_data.csv\n"
   ]
  },
  {
   "cell_type": "markdown",
   "metadata": {},
   "source": [
    "Just to confirm, this dataset should have 2574 features:"
   ]
  },
  {
   "cell_type": "code",
   "execution_count": null,
   "metadata": {
    "collapsed": false
   },
   "outputs": [],
   "source": [
    "# Display item_data's shape\n"
   ]
  },
  {
   "cell_type": "markdown",
   "metadata": {},
   "source": [
    "<span id=\"oval-blob\"></span>\n",
    "# 1. Toy example: oval blob\n",
    "\n",
    "PCA is an elegant technique that's very practical, but it can be a bit hard to try it on our larger dataset right away.\n",
    "\n",
    "Instead, let's first use one last toy example to break down the intuition behind PCA.\n",
    "\n",
    "<br>\n",
    "**First, we'll create an \"oval blob\" synthetic dataset.**\n",
    "* Instead of both input features and a target variable, we'll only have 2 input features.\n",
    "* $x_1$ will be random samples from a normal distribution.\n",
    "* $x_2$ will be random samples from a normal distribution **plus $x_1$**."
   ]
  },
  {
   "cell_type": "code",
   "execution_count": null,
   "metadata": {
    "collapsed": false
   },
   "outputs": [],
   "source": [
    "# Set random seed\n",
    "\n",
    "\n",
    "# Create first feature: x1\n",
    "\n",
    "\n",
    "# Create second feature: x2\n"
   ]
  },
  {
   "cell_type": "markdown",
   "metadata": {},
   "source": [
    "**Let's stack them together to form <code style=\"color:steelblue\">X</code>, our input feature matrix.**\n",
    "* We'll skip putting them in a Pandas DataFrame.\n",
    "* Instead, we'll just stack them together as two separate columns in a matrix."
   ]
  },
  {
   "cell_type": "code",
   "execution_count": null,
   "metadata": {
    "collapsed": false,
    "scrolled": true
   },
   "outputs": [],
   "source": [
    "# Stack together as columns\n",
    "\n",
    "\n",
    "# Print shape of X\n"
   ]
  },
  {
   "cell_type": "markdown",
   "metadata": {},
   "source": [
    "**Create a scaled version of your feature matrix and name it <code style=\"color:steelblue\">X_scaled</code>.**\n",
    "* You'll want to use <code style=\"color:steelblue\">StandardScaler</code>.\n",
    "* **Tip:** To fit and apply a transformation in one line of code, you can use the <code style=\"color:steelblue\">.fit_transform()</code> function.\n",
    "* Then, display the first 5 rows. \n",
    "    * You can't use <code style=\"color:steelblue\">.head()</code> because it's not a dataframe.\n",
    "    * You must **index/slice the array** instead."
   ]
  },
  {
   "cell_type": "code",
   "execution_count": null,
   "metadata": {
    "collapsed": false
   },
   "outputs": [],
   "source": [
    "# Initialize instance of StandardScaler\n",
    "\n",
    "\n",
    "# Fit and transform X\n",
    "\n",
    "\n",
    "# Display first 5 rows of X_scaled\n"
   ]
  },
  {
   "cell_type": "markdown",
   "metadata": {},
   "source": [
    "**Plot a scatterplot of the scaled $x_1$ against the scaled $x_2$.**\n",
    "* Label your axes as <code style=\"color:crimson\">x1 (scaled)</code> and <code style=\"color:crimson\">x2 (scaled)</code>.\n",
    "* **Tip:** Call <code style=\"color:steelblue\">plt.axis('equal')</code> after your scatterplot to put your plot's axes on the same scale.\n",
    "* We have a recommended plot below. See the Answer Key for how to create it."
   ]
  },
  {
   "cell_type": "code",
   "execution_count": null,
   "metadata": {
    "collapsed": false
   },
   "outputs": [],
   "source": [
    "# Plot scatterplot of scaled x1 against scaled x2\n",
    "\n",
    "\n",
    "# Put plot axes on the same scale\n",
    "\n",
    "\n",
    "# Label axes\n",
    "\n",
    "\n",
    "# Clear text residue\n"
   ]
  },
  {
   "cell_type": "markdown",
   "metadata": {},
   "source": [
    "<p style=\"text-align:center; margin: 40px 0 40px 0; font-weight:bold\">\n",
    "<a href=\"#toc\">Back to Contents</a>\n",
    "</p>"
   ]
  },
  {
   "cell_type": "markdown",
   "metadata": {},
   "source": [
    "<span id=\"components\"></span>\n",
    "# 2. Principal components\n",
    "\n",
    "As it turns out, this type of distribution is very helpful for visualizing the mechanics behind PCA.\n",
    "\n",
    "<br>\n",
    "**First, add the following import line to your library imports above. Then, re-run that code cell.**\n",
    "\n",
    "<pre style=\"color:steelblue\">\n",
    "from sklearn.decomposition import PCA\n",
    "</pre>\n",
    "\n",
    "<br>\n",
    "**Next, we can initialize an instance of the PCA transformation.**\n",
    "* This is just as we did for the StandardScaler transformation. \n",
    "* Then, we can fit the instance with just one line of code."
   ]
  },
  {
   "cell_type": "code",
   "execution_count": null,
   "metadata": {
    "collapsed": false
   },
   "outputs": [],
   "source": [
    "# Initialize instance of PCA transformation\n",
    "\n",
    "\n",
    "# Fit the instance\n"
   ]
  },
  {
   "cell_type": "markdown",
   "metadata": {},
   "source": [
    "**Let's display the principal components.**"
   ]
  },
  {
   "cell_type": "code",
   "execution_count": null,
   "metadata": {
    "collapsed": false,
    "scrolled": true
   },
   "outputs": [],
   "source": [
    "# Display principal components\n"
   ]
  },
  {
   "cell_type": "markdown",
   "metadata": {},
   "source": [
    "**Next, let's overlay the principal components on our oval blob.**\n",
    "* We'll make the oval blob semi-transparent so we can see the principal components more easily.\n",
    "* For clarity, we'll plot the first principal component in **black**, and we'll make it twice as long.\n",
    "* We'll plot the first principal component in <strong style=\"color:red\">red</strong>."
   ]
  },
  {
   "cell_type": "code",
   "execution_count": null,
   "metadata": {
    "collapsed": false
   },
   "outputs": [],
   "source": [
    "# Plot scaled dataset and make it partially transparent\n",
    "\n",
    "\n",
    "# Plot first principal component in black\n",
    "\n",
    "\n",
    "# Plot second principal component in red\n",
    "\n",
    "\n",
    "# Set axes\n",
    "\n",
    "\n",
    "\n",
    "# Clear text residue\n"
   ]
  },
  {
   "cell_type": "markdown",
   "metadata": {},
   "source": [
    "**Finally, we can transform our original features using the fitted PCA instance.**\n",
    "* Remember, PCA generates new features that **replace** the original ones.\n",
    "* We'll name these new features <code style=\"color:crimson\">PC</code> (short for \"principal component\") to indicate that they are generated from PCA."
   ]
  },
  {
   "cell_type": "code",
   "execution_count": null,
   "metadata": {
    "collapsed": false
   },
   "outputs": [],
   "source": [
    "# Generate new features\n"
   ]
  },
  {
   "cell_type": "code",
   "execution_count": null,
   "metadata": {
    "collapsed": false
   },
   "outputs": [],
   "source": [
    "# Plot transformed dataset\n",
    "\n",
    "\n",
    "# Plot first principal component in black\n",
    "\n",
    "\n",
    "# Plot second principal component in red\n",
    "\n",
    "\n",
    "# Set axes\n",
    "\n",
    "\n",
    "\n",
    "# Clear text residue\n"
   ]
  },
  {
   "cell_type": "markdown",
   "metadata": {},
   "source": [
    "<p style=\"text-align:center; margin: 40px 0 40px 0; font-weight:bold\">\n",
    "<a href=\"#toc\">Back to Contents</a>\n",
    "</p>"
   ]
  },
  {
   "cell_type": "markdown",
   "metadata": {},
   "source": [
    "<span id=\"reduction\"></span>\n",
    "# 3. Dimensionality reduction\n",
    "\n",
    "Here's where dimensionality reduction comes into play. You can just keep some number of the \"best\" components, a.k.a. the ones that explain the most variance.\n",
    "\n",
    "<br>\n",
    "**First, display the \"explained variance\" ratio of each component.**"
   ]
  },
  {
   "cell_type": "code",
   "execution_count": null,
   "metadata": {
    "collapsed": false
   },
   "outputs": [],
   "source": [
    "# Display explained variance ratio\n"
   ]
  },
  {
   "cell_type": "markdown",
   "metadata": {},
   "source": [
    "**To keep only 1 component, we can simply initialize and fit another PCA transformation.**\n",
    "* This time, we'll simply pass the argument <code style=\"color:steelblue\">n_components=1</code>."
   ]
  },
  {
   "cell_type": "code",
   "execution_count": null,
   "metadata": {
    "collapsed": false
   },
   "outputs": [],
   "source": [
    "# Initialize and fit a PCA transformation, only keeping 1 component\n",
    "\n"
   ]
  },
  {
   "cell_type": "code",
   "execution_count": null,
   "metadata": {
    "collapsed": false
   },
   "outputs": [],
   "source": [
    "# Display principal components\n"
   ]
  },
  {
   "cell_type": "code",
   "execution_count": null,
   "metadata": {
    "collapsed": false
   },
   "outputs": [],
   "source": [
    "# Generate new features\n",
    "\n"
   ]
  },
  {
   "cell_type": "code",
   "execution_count": null,
   "metadata": {
    "collapsed": false
   },
   "outputs": [],
   "source": [
    "# Plot transformed dataset\n",
    "\n",
    "\n",
    "# Plot first principal component in black\n",
    "\n",
    "\n",
    "# Set axes\n",
    "\n",
    "\n",
    "\n",
    "# Clear text residue\n"
   ]
  },
  {
   "cell_type": "markdown",
   "metadata": {},
   "source": [
    "<p style=\"text-align:center; margin: 40px 0 40px 0; font-weight:bold\">\n",
    "<a href=\"#toc\">Back to Contents</a>\n",
    "</p>"
   ]
  },
  {
   "cell_type": "markdown",
   "metadata": {},
   "source": [
    "<span id=\"item-data\"></span>\n",
    "# 4. Item data PCA\n",
    "\n",
    "Now let's get back to our project.\n",
    "\n",
    "<br>\n",
    "**First, scale <code style=\"color:crimson\">item_data</code>, which you imported at the beginning of this module.**\n",
    "* Name the scaled dataset <code style=\"color:crimson\">item_data_scaled</code>.\n",
    "* Then, display the first 5 rows. \n",
    "    * You can't use <code style=\"color:steelblue\">.head()</code> because it's not a dataframe.\n",
    "    * You must **index/slice the array** instead."
   ]
  },
  {
   "cell_type": "code",
   "execution_count": null,
   "metadata": {
    "collapsed": false
   },
   "outputs": [],
   "source": [
    "# Initialize instance of StandardScaler\n",
    "\n",
    "\n",
    "# Fit and transform item_data\n",
    "\n",
    "\n",
    "# Display first 5 rows of item_data_scaled\n"
   ]
  },
  {
   "cell_type": "markdown",
   "metadata": {},
   "source": [
    "**Next, initialize and fit an instance of the PCA transformation.**\n",
    "* Keep all of the components for now (just don't pass in any argument)."
   ]
  },
  {
   "cell_type": "code",
   "execution_count": null,
   "metadata": {
    "collapsed": false
   },
   "outputs": [],
   "source": [
    "# Initialize and fit a PCA transformation\n",
    "\n"
   ]
  },
  {
   "cell_type": "markdown",
   "metadata": {},
   "source": [
    "**Finally, generate new \"principal component features\" from <code style=\"color:crimson\">item_data_scaled</code>.**\n",
    "* Name the new array <code style=\"color:crimson\">PC_items</code>.\n",
    "* Then, display the first 5 rows."
   ]
  },
  {
   "cell_type": "code",
   "execution_count": null,
   "metadata": {
    "collapsed": false
   },
   "outputs": [],
   "source": [
    "# Generate new features\n",
    "\n",
    "\n",
    "# Display first 5 rows\n"
   ]
  },
  {
   "cell_type": "markdown",
   "metadata": {},
   "source": [
    "<p style=\"text-align:center; margin: 40px 0 40px 0; font-weight:bold\">\n",
    "<a href=\"#toc\">Back to Contents</a>\n",
    "</p>"
   ]
  },
  {
   "cell_type": "markdown",
   "metadata": {},
   "source": [
    "<span id=\"explained-variance\"></span>\n",
    "# 5. Explained variance\n",
    "\n",
    "Earlier, we already saw how to display the **explained variance ratio** for each of the principal components.\n",
    "\n",
    "<br>\n",
    "**It's very helpful to calculate and plot the <u>cumulative</u> explained variance.**\n",
    "* This will tell us the total amount of variance we'd capture if we kept up to the n-th component.\n",
    "* First, we'll use <code style=\"color:steelblue\">np.cumsum()</code> to calculate the cumulative explained variance.\n",
    "* Then, we'll plot it so we can see how many $PC$ features we'd need to keep in order to capture most of the original variance."
   ]
  },
  {
   "cell_type": "code",
   "execution_count": null,
   "metadata": {
    "collapsed": false
   },
   "outputs": [],
   "source": [
    "# Cumulative explained variance\n",
    "\n",
    "\n",
    "# Plot cumulative explained variance\n"
   ]
  },
  {
   "cell_type": "code",
   "execution_count": null,
   "metadata": {
    "collapsed": false
   },
   "outputs": [],
   "source": [
    "# How much variance we'd capture with the first 125 components\n"
   ]
  },
  {
   "cell_type": "markdown",
   "metadata": {},
   "source": [
    "**Initialize and fit another PCA transformation.**\n",
    "* This time, only keep 125 components.\n",
    "* Generate the principal component features from the fitted instance and name the new matrix <code style=\"color:crimson\">PC_items</code>.\n",
    "* Then, display the shape of <code style=\"color:crimson\">PC_items</code> to confirm it only has 125 features."
   ]
  },
  {
   "cell_type": "code",
   "execution_count": null,
   "metadata": {
    "collapsed": false
   },
   "outputs": [],
   "source": [
    "# Initialize PCA transformation, only keeping 125 components\n",
    "\n",
    "\n",
    "# Fit and transform item_data_scaled\n",
    "\n",
    "\n",
    "# Display shape of PC_items\n"
   ]
  },
  {
   "cell_type": "markdown",
   "metadata": {},
   "source": [
    "**Next, for convenience, let's put <code style=\"color:crimson\">PC_items</code> into a new dataframe.**\n",
    "* We'll also name the columns and update its index to be the same as the orginal <code style=\"color:crimson\">item_data</code>'s index."
   ]
  },
  {
   "cell_type": "code",
   "execution_count": null,
   "metadata": {
    "collapsed": false
   },
   "outputs": [],
   "source": [
    "# Put PC_items into a dataframe\n",
    "\n",
    "\n",
    "# Name the columns\n",
    "\n",
    "\n",
    "# Update its index\n",
    "\n",
    "\n",
    "# Display first 5 rows\n"
   ]
  },
  {
   "cell_type": "markdown",
   "metadata": {},
   "source": [
    "**Finally, save this item dataframe with PCA features as <code style=\"color:crimson\">'pca_item_data.csv'</code>.**\n",
    "* In <span style=\"color:royalblue\">Module 4</span>, we'll compare the clusters made from using these features against those in <code style=\"color:crimson\">'threshold_item_data.csv'</code>.\n",
    "* Do **not** set <code style=\"color:steelblue\">index=None</code> because we want to keep the CustomerID's as the index."
   ]
  },
  {
   "cell_type": "code",
   "execution_count": null,
   "metadata": {
    "collapsed": true
   },
   "outputs": [],
   "source": [
    "# Save pca_item_data.csv\n"
   ]
  },
  {
   "cell_type": "markdown",
   "metadata": {},
   "source": [
    "<p style=\"text-align:center; margin: 40px 0 40px 0; font-weight:bold\">\n",
    "<a href=\"#toc\">Back to Contents</a>\n",
    "</p>"
   ]
  },
  {
   "cell_type": "markdown",
   "metadata": {},
   "source": [
    "<br>\n",
    "## Next Steps\n",
    "\n",
    "Congratulations for making it through Project 4's Principal Component Analysis!\n",
    "\n",
    "As a reminder, here are a few things you did in this module:\n",
    "* You saw how PCA works on an oval blob.\n",
    "* You contrasted plots of the original features against plots of the principal component features.\n",
    "* You learned how to intepret cumulative explained variance.\n",
    "* And you reduced the dimensionality of the item dataset using PCA.\n",
    "\n",
    "In the next module, <span style=\"color:royalblue\">Module 4: Cluster Analysis</span>, we'll see how different feature sets lead to different clusters. We'll apply K-Means clustering to the analytical base table, the threshold item features, and the PCA item features.\n",
    "\n",
    "<p style=\"text-align:center; margin: 40px 0 40px 0; font-weight:bold\">\n",
    "<a href=\"#toc\">Back to Contents</a>\n",
    "</p>"
   ]
  }
 ],
 "metadata": {
  "kernelspec": {
   "display_name": "Python 2",
   "language": "python",
   "name": "python2"
  },
  "language_info": {
   "codemirror_mode": {
    "name": "ipython",
    "version": 2
   },
   "file_extension": ".py",
   "mimetype": "text/x-python",
   "name": "python",
   "nbconvert_exporter": "python",
   "pygments_lexer": "ipython2",
   "version": "2.7.11"
  }
 },
 "nbformat": 4,
 "nbformat_minor": 0
}
