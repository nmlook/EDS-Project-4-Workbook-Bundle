{
 "cells": [
  {
   "cell_type": "markdown",
   "metadata": {},
   "source": [
    "<h1 style=\"font-size:42px; text-align:center; margin-bottom:30px;\"><span style=\"color:SteelBlue\">Module 2:</span> Dimensionality Reduction</h1>\n",
    "<hr>\n",
    "\n",
    "Welcome to <span style=\"color:royalblue\">Module 2: Dimensionality Reduction</span>!\n",
    "\n",
    "In the previous module, you created an analytical base table with useful customer-level features for **purchase patterns**.\n",
    "\n",
    "However, remember, our client wishes to incorporate information about **specific item purchases** into the clusters. For example, our model should be more likely to group together customers who buy similar items.\n",
    "\n",
    "* In this module, we'll prepare individual item features for our clustering algorithms.\n",
    "* The Curse of Dimensionality is especially relevant for clustering because it means observations are \"far away\" from each other.\n",
    "* We'll introduce a simple way to reduce the number of dimensions by applying thresholds.\n",
    "\n",
    "<br><hr id=\"toc\">\n",
    "\n",
    "### In this module...\n",
    "\n",
    "In this module, we'll cover:\n",
    "1. [The Curse of Dimensionality](#curse)\n",
    "2. [Item data](#item-data)\n",
    "3. [Toy example: rolling up item data](#toy)\n",
    "4. [High dimensionality](#high-dimensionality)\n",
    "5. [Thresholds](#thresholds)\n",
    "\n",
    "\n",
    "<br><hr>"
   ]
  },
  {
   "cell_type": "markdown",
   "metadata": {},
   "source": [
    "### First, let's import libraries and load the cleaned transaction-level data.\n",
    "\n",
    "First, import libraries that you'll need."
   ]
  },
  {
   "cell_type": "code",
   "execution_count": null,
   "metadata": {
    "collapsed": true
   },
   "outputs": [],
   "source": [
    "# print_function for compatibility with Python 3\n",
    "\n",
    "\n",
    "# NumPy for numerical computing\n",
    "\n",
    "\n",
    "# Pandas for DataFrames\n",
    "\n",
    "\n",
    "\n",
    "# Matplotlib for visualization\n",
    "\n",
    "# display plots in the notebook\n",
    "\n",
    "\n",
    "# Seaborn for easier visualization\n"
   ]
  },
  {
   "cell_type": "markdown",
   "metadata": {},
   "source": [
    "Next, let's import the cleaned dataset (not the analytical base table) that we saved in the previous module.\n",
    "* Remember, we saved it as <code style=\"color:crimson\">'cleaned_transactions.csv'</code>."
   ]
  },
  {
   "cell_type": "code",
   "execution_count": null,
   "metadata": {
    "collapsed": false
   },
   "outputs": [],
   "source": [
    "# Read cleaned_transactions.csv\n"
   ]
  },
  {
   "cell_type": "markdown",
   "metadata": {},
   "source": [
    "<span id=\"curse\"></span>\n",
    "# 1. The Curse of Dimensionality\n",
    "\n",
    "No code for this part. Please see the online lesson for intuition behind The Curse of Dimensionality."
   ]
  },
  {
   "cell_type": "markdown",
   "metadata": {},
   "source": [
    "<p style=\"text-align:center; margin: 40px 0 40px 0; font-weight:bold\">\n",
    "<a href=\"#toc\">Back to Contents</a>\n",
    "</p>"
   ]
  },
  {
   "cell_type": "markdown",
   "metadata": {},
   "source": [
    "<span id=\"item-data\"></span>\n",
    "# 2. Item data\n",
    "\n",
    "So how does The Curse of Dimensionality arise in this problem?\n",
    "\n",
    "<br>\n",
    "**Display the first 10 StockCodes and Descriptions from the transaction dataset.**"
   ]
  },
  {
   "cell_type": "code",
   "execution_count": null,
   "metadata": {
    "collapsed": false
   },
   "outputs": [],
   "source": [
    "# First 10 StockCodes and Descriptions\n"
   ]
  },
  {
   "cell_type": "markdown",
   "metadata": {},
   "source": [
    "**Next, display the number of unique items in the dataset.**"
   ]
  },
  {
   "cell_type": "code",
   "execution_count": null,
   "metadata": {
    "collapsed": false
   },
   "outputs": [],
   "source": [
    "# Number of unique items\n"
   ]
  },
  {
   "cell_type": "markdown",
   "metadata": {},
   "source": [
    "<p style=\"text-align:center; margin: 40px 0 40px 0; font-weight:bold\">\n",
    "<a href=\"#toc\">Back to Contents</a>\n",
    "</p>"
   ]
  },
  {
   "cell_type": "markdown",
   "metadata": {},
   "source": [
    "<span id=\"toy\"></span>\n",
    "# 3. Toy example: rolling up item data\n",
    "\n",
    "To illustrate how we'll **roll up item information to the customer level**, let's use another toy example. \n",
    "\n",
    "<br>\n",
    "**First, create a <code style=\"color:crimson\">toy_df</code> that only contains transactions for 2 customers.**\n",
    "* Include transactions for these 2 CustomerID's: <code style=\"color:crimson\">14566</code> and <code style=\"color:crimson\">17844</code>.\n",
    "* By the way, there's nothing special about these customers... we just chose them because they have relatively few purchases, making the toy example more manageable.\n",
    "* Then, display the toy dataframe."
   ]
  },
  {
   "cell_type": "code",
   "execution_count": null,
   "metadata": {
    "collapsed": false
   },
   "outputs": [],
   "source": [
    "# Create toy_df\n",
    "\n",
    "\n",
    "# Display toy_df\n"
   ]
  },
  {
   "cell_type": "markdown",
   "metadata": {},
   "source": [
    "**Create a dataframe of dummy variables for <code style=\"color:steelblue\">'StockCode'</code>.**\n",
    "* Name it <code style=\"color:crimson\">toy_item_dummies</code>.\n",
    "* We don't need the other features right now, so you can actually just directly pass in the <code style=\"color:steelblue\">toy_df.StockCode</code> Series to <code style=\"color:steelblue\">pd.get_dummies()</code>.\n",
    "* Then, add <code style=\"color:steelblue\">'CustomerID'</code> to this new dataframe so that we can roll up by customer later.\n",
    "* Finally, display the dataframe."
   ]
  },
  {
   "cell_type": "code",
   "execution_count": null,
   "metadata": {
    "collapsed": false
   },
   "outputs": [],
   "source": [
    "# Get toy_item_dummies\n",
    "\n",
    "\n",
    "# Add CustomerID to toy_item_dummies\n",
    "\n",
    "\n",
    "# Display toy_item_dummies\n"
   ]
  },
  {
   "cell_type": "markdown",
   "metadata": {},
   "source": [
    "**Finally, we can aggregate this information to the customer-level**.\n",
    "* In fact, it's as simple as grouping by customer and counting the number of times each customer bought each item."
   ]
  },
  {
   "cell_type": "code",
   "execution_count": null,
   "metadata": {
    "collapsed": false
   },
   "outputs": [],
   "source": [
    "# Create toy_item_data by aggregating at customer level\n",
    "\n",
    "\n",
    "# Display toy_item_data\n"
   ]
  },
  {
   "cell_type": "markdown",
   "metadata": {},
   "source": [
    "<p style=\"text-align:center; margin: 40px 0 40px 0; font-weight:bold\">\n",
    "<a href=\"#toc\">Back to Contents</a>\n",
    "</p>"
   ]
  },
  {
   "cell_type": "markdown",
   "metadata": {},
   "source": [
    "<span id=\"high-dimensionality\"></span>\n",
    "# 4. High dimensionality\n",
    "\n",
    "Now, perhaps the alarms in your head have already started ringing!\n",
    "\n",
    "<br>\n",
    "**First, create a dataframe of dummy variables for <code style=\"color:steelblue\">'StockCode'</code>, this time for the full dataset.**\n",
    "* Name it <code style=\"color:crimson\">item_dummies</code>.\n",
    "* Then, add <code style=\"color:steelblue\">'CustomerID'</code> to this new dataframe so that we can roll up by customer later.\n",
    "* Then, display the first 5 rows in this dataframe."
   ]
  },
  {
   "cell_type": "code",
   "execution_count": null,
   "metadata": {
    "collapsed": false,
    "scrolled": true
   },
   "outputs": [],
   "source": [
    "# Get item_dummies\n",
    "\n",
    "\n",
    "# Add CustomerID to item_dummies\n",
    "\n",
    "\n",
    "# Display first 5 rows of item_dummies\n"
   ]
  },
  {
   "cell_type": "markdown",
   "metadata": {},
   "source": [
    "**Next, roll up the item dummies data into customer-level item data**.\n",
    "* Name it <code style=\"color:crimson\">item_data</code>.\n",
    "* This could take a few seconds.\n",
    "* Then, display the first 5 rows of the dataframe."
   ]
  },
  {
   "cell_type": "code",
   "execution_count": null,
   "metadata": {
    "collapsed": false
   },
   "outputs": [],
   "source": [
    "# Create item_data by aggregating at customer level\n",
    "\n",
    "\n",
    "# Display first 5 rows of item_data\n"
   ]
  },
  {
   "cell_type": "markdown",
   "metadata": {},
   "source": [
    "**Finally, let's display the total number times each item was purchased.**\n",
    "* This quick check confirms these features are pretty sparse."
   ]
  },
  {
   "cell_type": "code",
   "execution_count": null,
   "metadata": {
    "collapsed": false
   },
   "outputs": [],
   "source": [
    "# Total times each item was purchased\n"
   ]
  },
  {
   "cell_type": "markdown",
   "metadata": {},
   "source": [
    "**Before moving on, let's save this customer-level item dataframe as <code style=\"color:crimson\">'item_data.csv'</code>. We'll use it again in the next module.**\n",
    "* In the next module, we'll look at an alternative way to reduce dimensionality.\n",
    "* Again, we won't set <code style=\"color:steelblue\">index=None</code> because we want to keep the CustomerID's as the index."
   ]
  },
  {
   "cell_type": "code",
   "execution_count": null,
   "metadata": {
    "collapsed": true
   },
   "outputs": [],
   "source": [
    "# Save item_data.csv\n"
   ]
  },
  {
   "cell_type": "markdown",
   "metadata": {},
   "source": [
    "<p style=\"text-align:center; margin: 40px 0 40px 0; font-weight:bold\">\n",
    "<a href=\"#toc\">Back to Contents</a>\n",
    "</p>"
   ]
  },
  {
   "cell_type": "markdown",
   "metadata": {},
   "source": [
    "<span id=\"thresholds\"></span>\n",
    "# 5. Thresholds\n",
    "\n",
    "One very **simple and straightforward way** to reduce the dimensionality of this item data is to set a **threshold** for keeping features.\n",
    "\n",
    "<br>\n",
    "**First, we can see which items those are and the number of times they were purchased.**\n",
    "1. Take the sum by column.\n",
    "* Sort the values.\n",
    "* Look at the last 20 (since they are sorted in ascending order by default)."
   ]
  },
  {
   "cell_type": "code",
   "execution_count": null,
   "metadata": {
    "collapsed": false
   },
   "outputs": [],
   "source": [
    "# Display most popular 20 items\n"
   ]
  },
  {
   "cell_type": "markdown",
   "metadata": {},
   "source": [
    "**Next, if we take the <code style=\"color:steelblue\">.index</code> of the above series, we can get just a list of the StockCodes for those 20 items.**"
   ]
  },
  {
   "cell_type": "code",
   "execution_count": null,
   "metadata": {
    "collapsed": false
   },
   "outputs": [],
   "source": [
    "# Get list of StockCodes for the 20 most popular items\n"
   ]
  },
  {
   "cell_type": "markdown",
   "metadata": {},
   "source": [
    "**Finally, we can keep only the features for those 20 items.**"
   ]
  },
  {
   "cell_type": "code",
   "execution_count": null,
   "metadata": {
    "collapsed": false
   },
   "outputs": [],
   "source": [
    "# Keep only features for top 20 items\n",
    "\n",
    "\n",
    "# Shape of remaining dataframe\n"
   ]
  },
  {
   "cell_type": "markdown",
   "metadata": {},
   "source": [
    "Here, take a look:"
   ]
  },
  {
   "cell_type": "code",
   "execution_count": null,
   "metadata": {
    "collapsed": false
   },
   "outputs": [],
   "source": [
    "# Display first 5 rows of top_20_item_data\n"
   ]
  },
  {
   "cell_type": "markdown",
   "metadata": {},
   "source": [
    "**Finally, save this top 20 items dataframe as <code style=\"color:crimson\">'threshold_item_data.csv'</code>.**\n",
    "* We'll see a different way to reduce dimensionality in the next module, but we'll come back to this dataframe again in Module 4.\n",
    "* Don't set <code style=\"color:steelblue\">index=None</code> because we want to keep the CustomerID's as the index."
   ]
  },
  {
   "cell_type": "code",
   "execution_count": null,
   "metadata": {
    "collapsed": true
   },
   "outputs": [],
   "source": [
    "# Save threshold_item_data.csv\n"
   ]
  },
  {
   "cell_type": "markdown",
   "metadata": {},
   "source": [
    "<p style=\"text-align:center; margin: 40px 0 40px 0; font-weight:bold\">\n",
    "<a href=\"#toc\">Back to Contents</a>\n",
    "</p>"
   ]
  },
  {
   "cell_type": "markdown",
   "metadata": {},
   "source": [
    "<br>\n",
    "## Next Steps\n",
    "\n",
    "Congratulations for making it through Project 4's Dimensionality Reduction!\n",
    "\n",
    "As a reminder, here are a few things you did in this module:\n",
    "* You learned about the Curse of Dimensionality and how it can cause issues for clustering.\n",
    "* You used another toy example to see the process of rolling up item data.\n",
    "* You created customer-level item features that represent the number of times each item was purchased.\n",
    "* And you reduced the dimensionality of that dataset using thresholds.\n",
    "\n",
    "In the next module, <span style=\"color:royalblue\">Module 3: Principal Components Analysis</span>, we'll look at a different way to reduce the number of customer-level item features. This is a more advanced technique, and it's actually considered its own Unsupervised Learning task!\n",
    "\n",
    "<p style=\"text-align:center; margin: 40px 0 40px 0; font-weight:bold\">\n",
    "<a href=\"#toc\">Back to Contents</a>\n",
    "</p>"
   ]
  }
 ],
 "metadata": {
  "kernelspec": {
   "display_name": "Python 2",
   "language": "python",
   "name": "python2"
  },
  "language_info": {
   "codemirror_mode": {
    "name": "ipython",
    "version": 2
   },
   "file_extension": ".py",
   "mimetype": "text/x-python",
   "name": "python",
   "nbconvert_exporter": "python",
   "pygments_lexer": "ipython2",
   "version": "2.7.11"
  }
 },
 "nbformat": 4,
 "nbformat_minor": 2
}
